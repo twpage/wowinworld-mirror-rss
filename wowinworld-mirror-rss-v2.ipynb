{
 "cells": [
  {
   "cell_type": "code",
   "execution_count": 1,
   "metadata": {},
   "outputs": [],
   "source": [
    "import requests\n",
    "import xml.etree.ElementTree as ET\n",
    "import datetime, re, os, csv, copy, re\n",
    "from collections import OrderedDict\n"
   ]
  },
  {
   "cell_type": "code",
   "execution_count": 2,
   "metadata": {},
   "outputs": [],
   "source": [
    "RSS_FEED_PATH = r\"https://rss.art19.com/wow-in-the-world\""
   ]
  },
  {
   "cell_type": "code",
   "execution_count": 3,
   "metadata": {},
   "outputs": [],
   "source": [
    "def fetch_and_parse_xml(url):\n",
    "    try:\n",
    "        # Fetch the XML data from the remote URL\n",
    "        response = requests.get(url)\n",
    "        response.raise_for_status()  # Check if the request was successful\n",
    "\n",
    "        # Parse the XML data\n",
    "        root = ET.fromstring(response.content)\n",
    "        \n",
    "        return root\n",
    "    except requests.exceptions.RequestException as e:\n",
    "        print(f\"Error fetching the XML file: {e}\")\n",
    "    except ET.ParseError as e:\n",
    "        print(f\"Error parsing the XML data: {e}\")"
   ]
  },
  {
   "cell_type": "code",
   "execution_count": 4,
   "metadata": {},
   "outputs": [],
   "source": [
    "def check_filter(xml_element: ET.Element):\n",
    "    if xml_element.tag != \"item\": \n",
    "        assert 0 == 1\n",
    "    \n",
    "    episode_title = xml_element.find('title').text\n",
    "    if 'Two Whats' in episode_title:\n",
    "        return True\n",
    "    \n",
    "    return False"
   ]
  },
  {
   "cell_type": "code",
   "execution_count": 5,
   "metadata": {},
   "outputs": [],
   "source": [
    "def prune_xml(xml_root):\n",
    "    # display(xml_root)\n",
    "    channel_root = xml_root.find('channel')\n",
    "    for episode_node in channel_root.findall('.//item'):\n",
    "        is_filtered_out = check_filter(episode_node)\n",
    "        if is_filtered_out:\n",
    "            channel_root.remove(episode_node)\n",
    "    \n",
    "    return xml_root"
   ]
  },
  {
   "cell_type": "code",
   "execution_count": 6,
   "metadata": {},
   "outputs": [],
   "source": [
    "def print_xml_elements(root):\n",
    "    # Convert the XML element back to a string\n",
    "    xml_str = ET.tostring(root, encoding='unicode')\n",
    "    xml_str = re.sub(\"ns(\\d)\\:\", \"itunes:\", xml_str)\n",
    "    return xml_str"
   ]
  },
  {
   "cell_type": "code",
   "execution_count": 7,
   "metadata": {},
   "outputs": [],
   "source": [
    "root = fetch_and_parse_xml(RSS_FEED_PATH)"
   ]
  },
  {
   "cell_type": "code",
   "execution_count": 8,
   "metadata": {},
   "outputs": [],
   "source": [
    "modified_root = prune_xml(copy.deepcopy(root))"
   ]
  },
  {
   "cell_type": "code",
   "execution_count": 9,
   "metadata": {},
   "outputs": [
    {
     "data": {
      "text/plain": [
       "1559560"
      ]
     },
     "execution_count": 9,
     "metadata": {},
     "output_type": "execute_result"
    }
   ],
   "source": [
    "open(os.path.join(os.getcwd(), \"original.xml\"), 'w').write(print_xml_elements(root))\n",
    "open(os.path.join(os.getcwd(), \"modified.xml\"), 'w').write(print_xml_elements(modified_root))"
   ]
  },
  {
   "cell_type": "code",
   "execution_count": null,
   "metadata": {},
   "outputs": [],
   "source": []
  },
  {
   "cell_type": "code",
   "execution_count": 10,
   "metadata": {},
   "outputs": [
    {
     "data": {
      "text/plain": [
       "778"
      ]
     },
     "execution_count": 10,
     "metadata": {},
     "output_type": "execute_result"
    }
   ],
   "source": [
    "## this is how many episodes we start with\n",
    "len(root.findall('.//item'))\n"
   ]
  },
  {
   "cell_type": "code",
   "execution_count": 11,
   "metadata": {},
   "outputs": [],
   "source": [
    "# for n in root.findall('.//item'):\n",
    "#     print(n.tag)\n",
    "# root.findall('.//item')[0].find('title').text"
   ]
  },
  {
   "cell_type": "code",
   "execution_count": 12,
   "metadata": {},
   "outputs": [
    {
     "data": {
      "text/plain": [
       "546"
      ]
     },
     "execution_count": 12,
     "metadata": {},
     "output_type": "execute_result"
    }
   ],
   "source": [
    "## this is how many episodes we start with\n",
    "len(modified_root.findall('.//item'))\n"
   ]
  },
  {
   "cell_type": "code",
   "execution_count": null,
   "metadata": {},
   "outputs": [],
   "source": []
  }
 ],
 "metadata": {
  "kernelspec": {
   "display_name": "base",
   "language": "python",
   "name": "python3"
  },
  "language_info": {
   "codemirror_mode": {
    "name": "ipython",
    "version": 3
   },
   "file_extension": ".py",
   "mimetype": "text/x-python",
   "name": "python",
   "nbconvert_exporter": "python",
   "pygments_lexer": "ipython3",
   "version": "3.11.5"
  }
 },
 "nbformat": 4,
 "nbformat_minor": 2
}
