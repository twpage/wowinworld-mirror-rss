{
 "cells": [
  {
   "cell_type": "code",
   "execution_count": 44,
   "metadata": {},
   "outputs": [],
   "source": [
    "import feedparser\n",
    "from xml.etree.ElementTree import Element, tostring\n",
    "from xml.dom.minidom import parseString\n",
    "\n",
    "import requests\n",
    "import datetime, re, os, csv, copy\n",
    "from collections import OrderedDict\n"
   ]
  },
  {
   "cell_type": "code",
   "execution_count": 38,
   "metadata": {},
   "outputs": [],
   "source": [
    "RSS_FEED_PATH = r\"https://rss.art19.com/wow-in-the-world\""
   ]
  },
  {
   "cell_type": "code",
   "execution_count": 39,
   "metadata": {},
   "outputs": [],
   "source": [
    "def skip_me_fn(entry):\n",
    "    ## returns true if we should skip this particular podcast entry\n",
    "    if 'Two Whats' in entry.title:\n",
    "        return True\n",
    "    \n",
    "    return False"
   ]
  },
  {
   "cell_type": "code",
   "execution_count": 40,
   "metadata": {},
   "outputs": [],
   "source": [
    "def get_filtered_rss_feed(raw_feed_rss):\n",
    "    raw_rss_dct = feedparser.parse(raw_feed_rss)\n",
    "\n",
    "    ## filtered rss is exactly same as existing one to start out\n",
    "    filtered_rss_dct = copy.deepcopy(raw_rss_dct)\n",
    "\n",
    "    ## then we need to rebuild entries to exclude certain ones\n",
    "    filtered_rss_dct[\"entries\"] = []\n",
    "    for entry in raw_rss_dct[\"entries\"]:\n",
    "        should_skip = ('itunes_episode' not in entry) or (skip_me_fn(entry))\n",
    "        if should_skip: continue\n",
    "\n",
    "        filtered_rss_dct[\"entries\"].append(entry)\n",
    "\n",
    "    return filtered_rss_dct"
   ]
  },
  {
   "cell_type": "code",
   "execution_count": 45,
   "metadata": {},
   "outputs": [],
   "source": [
    "def dict_to_xml(tag, d):\n",
    "    elem = Element(tag)\n",
    "    if isinstance(d, dict):\n",
    "        for key, val in d.items():\n",
    "            child = dict_to_xml(key, val)\n",
    "            elem.append(child)\n",
    "    elif isinstance(d, list):\n",
    "        for item in d:\n",
    "            child = dict_to_xml(tag[:-1], item)  # Assuming plural tag for list\n",
    "            elem.append(child)\n",
    "    else:\n",
    "        elem.text = str(d)\n",
    "    return elem"
   ]
  },
  {
   "cell_type": "code",
   "execution_count": 58,
   "metadata": {},
   "outputs": [],
   "source": [
    "def feedparser_to_rss(feed):\n",
    "    rss = Element('rss', version='2.0')\n",
    "    channel = dict_to_xml('channel', feed['feed'])\n",
    "    rss.append(channel)\n",
    "    \n",
    "    items = []\n",
    "    for entry in feed['entries']:\n",
    "        item = dict_to_xml('item', entry)\n",
    "        items.append(item)\n",
    "    \n",
    "    for item in items:\n",
    "        channel.append(item)\n",
    "    \n",
    "    # Convert to a pretty XML string\n",
    "    raw_xml = tostring(rss, 'utf-8')\n",
    "    parsed_xml = parseString(raw_xml)\n",
    "    pretty_xml = parsed_xml.toprettyxml(indent=\"\\t\")\n",
    "    \n",
    "    return pretty_xml"
   ]
  },
  {
   "cell_type": "code",
   "execution_count": 59,
   "metadata": {},
   "outputs": [],
   "source": [
    "filtered_rss_dct = get_filtered_rss_feed(RSS_FEED_PATH)"
   ]
  },
  {
   "cell_type": "code",
   "execution_count": 60,
   "metadata": {},
   "outputs": [],
   "source": [
    "filtered_rss_xml = feedparser_to_rss(filtered_rss_dct)"
   ]
  },
  {
   "cell_type": "code",
   "execution_count": 62,
   "metadata": {},
   "outputs": [
    {
     "data": {
      "text/plain": [
       "2379339"
      ]
     },
     "execution_count": 62,
     "metadata": {},
     "output_type": "execute_result"
    }
   ],
   "source": [
    "open(os.path.join(os.getcwd(), \"test.xml\"), 'w').write(filtered_rss_xml)"
   ]
  },
  {
   "cell_type": "code",
   "execution_count": null,
   "metadata": {},
   "outputs": [],
   "source": [
    "open(os.path.join(os.getcwd(), \"test.xml\"), 'w').write(filtered_rss_xml)"
   ]
  },
  {
   "cell_type": "code",
   "execution_count": null,
   "metadata": {},
   "outputs": [],
   "source": []
  }
 ],
 "metadata": {
  "kernelspec": {
   "display_name": "base",
   "language": "python",
   "name": "python3"
  },
  "language_info": {
   "codemirror_mode": {
    "name": "ipython",
    "version": 3
   },
   "file_extension": ".py",
   "mimetype": "text/x-python",
   "name": "python",
   "nbconvert_exporter": "python",
   "pygments_lexer": "ipython3",
   "version": "3.11.5"
  }
 },
 "nbformat": 4,
 "nbformat_minor": 2
}
